{
 "cells": [
  {
   "cell_type": "code",
   "execution_count": 3,
   "id": "0467c538",
   "metadata": {},
   "outputs": [
    {
     "name": "stdout",
     "output_type": "stream",
     "text": [
      "All FIles done\n"
     ]
    }
   ],
   "source": [
    "#1 installing dependencies \n",
    "# pip install pandas  and pip install docxtpl (os and sys are installed by default )\n",
    "\n",
    "#2 importing dependencies \n",
    "import pandas as pd\n",
    "import os\n",
    "import sys\n",
    "\n",
    "from docxtpl import DocxTemplate\n",
    "\n",
    "# 3 from docxtpl import convert\n",
    "# 4 specifying sample word file (in my case parents.docx) \n",
    "# directories  may very depending on  your local machine  \n",
    "\n",
    "fname2=r\"C:\\Users\\Ce la vie\\Desktop\\Rufus\\harakteriska\\parents.docx\"\n",
    "\n",
    "#5 creating the folder output \n",
    "os.chdir(r\"C:\\Users\\Ce la vie\\Desktop\\Rufus\\harakteriska\\OUTPUT\")\n",
    "#6 specifying excel file and converting it into dataframe (in my case grades.xlsx)\n",
    "df=pd.read_excel(r\"C:\\Users\\Ce la vie\\Desktop\\Rufus\\harakteriska\\grades.xlsx\")\n",
    "#7 rendering and looping \n",
    "for record in df.to_dict(orient=\"records\"):\n",
    "    doc = DocxTemplate(fname2)\n",
    "    doc.render(record)\n",
    "    doc.save(f\"{record['name']}.docx\")\n",
    "print(\"All FIles done\")"
   ]
  },
  {
   "cell_type": "code",
   "execution_count": null,
   "id": "31ef69aa",
   "metadata": {},
   "outputs": [],
   "source": []
  }
 ],
 "metadata": {
  "kernelspec": {
   "display_name": "Python 3",
   "language": "python",
   "name": "python3"
  },
  "language_info": {
   "codemirror_mode": {
    "name": "ipython",
    "version": 3
   },
   "file_extension": ".py",
   "mimetype": "text/x-python",
   "name": "python",
   "nbconvert_exporter": "python",
   "pygments_lexer": "ipython3",
   "version": "3.8.8"
  }
 },
 "nbformat": 4,
 "nbformat_minor": 5
}
